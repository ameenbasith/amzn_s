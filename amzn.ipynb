{
 "cells": [
  {
   "cell_type": "code",
   "execution_count": 1,
   "id": "initial_id",
   "metadata": {
    "collapsed": true,
    "ExecuteTime": {
     "end_time": "2023-10-03T06:33:35.984776Z",
     "start_time": "2023-10-03T06:33:26.822427Z"
    }
   },
   "outputs": [
    {
     "name": "stdout",
     "output_type": "stream",
     "text": [
      "Collecting selenium\r\n",
      "  Obtaining dependency information for selenium from https://files.pythonhosted.org/packages/55/56/faf2aa238a0a8fbb7d5c11345a0f5e96358b7a3e144ba17b8b1c64f0b19a/selenium-4.13.0-py3-none-any.whl.metadata\r\n",
      "  Downloading selenium-4.13.0-py3-none-any.whl.metadata (6.9 kB)\r\n",
      "Requirement already satisfied: urllib3[socks]<3,>=1.26 in /Users/ameen/opt/anaconda3/lib/python3.9/site-packages (from selenium) (1.26.9)\r\n",
      "Collecting trio~=0.17 (from selenium)\r\n",
      "  Obtaining dependency information for trio~=0.17 from https://files.pythonhosted.org/packages/a3/dd/b61fa61b186d3267ef3903048fbee29132963ae762fb70b08d4a3cd6f7aa/trio-0.22.2-py3-none-any.whl.metadata\r\n",
      "  Downloading trio-0.22.2-py3-none-any.whl.metadata (4.7 kB)\r\n",
      "Collecting trio-websocket~=0.9 (from selenium)\r\n",
      "  Obtaining dependency information for trio-websocket~=0.9 from https://files.pythonhosted.org/packages/48/be/a9ae5f50cad5b6f85bd2574c2c923730098530096e170c1ce7452394d7aa/trio_websocket-0.11.1-py3-none-any.whl.metadata\r\n",
      "  Downloading trio_websocket-0.11.1-py3-none-any.whl.metadata (4.7 kB)\r\n",
      "Requirement already satisfied: certifi>=2021.10.8 in /Users/ameen/opt/anaconda3/lib/python3.9/site-packages (from selenium) (2023.7.22)\r\n",
      "Requirement already satisfied: attrs>=20.1.0 in /Users/ameen/opt/anaconda3/lib/python3.9/site-packages (from trio~=0.17->selenium) (21.4.0)\r\n",
      "Requirement already satisfied: sortedcontainers in /Users/ameen/opt/anaconda3/lib/python3.9/site-packages (from trio~=0.17->selenium) (2.4.0)\r\n",
      "Requirement already satisfied: idna in /Users/ameen/opt/anaconda3/lib/python3.9/site-packages (from trio~=0.17->selenium) (3.3)\r\n",
      "Collecting outcome (from trio~=0.17->selenium)\r\n",
      "  Downloading outcome-1.2.0-py2.py3-none-any.whl (9.7 kB)\r\n",
      "Requirement already satisfied: sniffio in /Users/ameen/opt/anaconda3/lib/python3.9/site-packages (from trio~=0.17->selenium) (1.2.0)\r\n",
      "Collecting exceptiongroup>=1.0.0rc9 (from trio~=0.17->selenium)\r\n",
      "  Obtaining dependency information for exceptiongroup>=1.0.0rc9 from https://files.pythonhosted.org/packages/ad/83/b71e58666f156a39fb29417e4c8ca4bc7400c0dd4ed9e8842ab54dc8c344/exceptiongroup-1.1.3-py3-none-any.whl.metadata\r\n",
      "  Downloading exceptiongroup-1.1.3-py3-none-any.whl.metadata (6.1 kB)\r\n",
      "Collecting wsproto>=0.14 (from trio-websocket~=0.9->selenium)\r\n",
      "  Downloading wsproto-1.2.0-py3-none-any.whl (24 kB)\r\n",
      "Requirement already satisfied: PySocks!=1.5.7,<2.0,>=1.5.6 in /Users/ameen/opt/anaconda3/lib/python3.9/site-packages (from urllib3[socks]<3,>=1.26->selenium) (1.7.1)\r\n",
      "Collecting h11<1,>=0.9.0 (from wsproto>=0.14->trio-websocket~=0.9->selenium)\r\n",
      "  Downloading h11-0.14.0-py3-none-any.whl (58 kB)\r\n",
      "\u001B[2K     \u001B[90m━━━━━━━━━━━━━━━━━━━━━━━━━━━━━━━━━━━━━━━━\u001B[0m \u001B[32m58.3/58.3 kB\u001B[0m \u001B[31m2.6 MB/s\u001B[0m eta \u001B[36m0:00:00\u001B[0m\r\n",
      "\u001B[?25hDownloading selenium-4.13.0-py3-none-any.whl (9.5 MB)\r\n",
      "\u001B[2K   \u001B[90m━━━━━━━━━━━━━━━━━━━━━━━━━━━━━━━━━━━━━━━━\u001B[0m \u001B[32m9.5/9.5 MB\u001B[0m \u001B[31m29.5 MB/s\u001B[0m eta \u001B[36m0:00:00\u001B[0ma \u001B[36m0:00:01\u001B[0m\r\n",
      "\u001B[?25hDownloading trio-0.22.2-py3-none-any.whl (400 kB)\r\n",
      "\u001B[2K   \u001B[90m━━━━━━━━━━━━━━━━━━━━━━━━━━━━━━━━━━━━━━━━\u001B[0m \u001B[32m400.2/400.2 kB\u001B[0m \u001B[31m19.6 MB/s\u001B[0m eta \u001B[36m0:00:00\u001B[0m\r\n",
      "\u001B[?25hDownloading trio_websocket-0.11.1-py3-none-any.whl (17 kB)\r\n",
      "Downloading exceptiongroup-1.1.3-py3-none-any.whl (14 kB)\r\n",
      "Installing collected packages: outcome, h11, exceptiongroup, wsproto, trio, trio-websocket, selenium\r\n",
      "Successfully installed exceptiongroup-1.1.3 h11-0.14.0 outcome-1.2.0 selenium-4.13.0 trio-0.22.2 trio-websocket-0.11.1 wsproto-1.2.0\r\n",
      "Collecting msedge-selenium-tools\r\n",
      "  Downloading msedge_selenium_tools-3.141.4-py3-none-any.whl (15 kB)\r\n",
      "Collecting selenium==3.141 (from msedge-selenium-tools)\r\n",
      "  Downloading selenium-3.141.0-py2.py3-none-any.whl (904 kB)\r\n",
      "\u001B[2K     \u001B[90m━━━━━━━━━━━━━━━━━━━━━━━━━━━━━━━━━━━━━━━\u001B[0m \u001B[32m904.6/904.6 kB\u001B[0m \u001B[31m8.3 MB/s\u001B[0m eta \u001B[36m0:00:00\u001B[0ma \u001B[36m0:00:01\u001B[0m\r\n",
      "\u001B[?25hRequirement already satisfied: urllib3 in /Users/ameen/opt/anaconda3/lib/python3.9/site-packages (from selenium==3.141->msedge-selenium-tools) (1.26.9)\r\n",
      "Installing collected packages: selenium, msedge-selenium-tools\r\n",
      "  Attempting uninstall: selenium\r\n",
      "    Found existing installation: selenium 4.13.0\r\n",
      "    Uninstalling selenium-4.13.0:\r\n",
      "      Successfully uninstalled selenium-4.13.0\r\n",
      "Successfully installed msedge-selenium-tools-3.141.4 selenium-3.141.0\r\n"
     ]
    }
   ],
   "source": [
    "!pip install selenium\n",
    "!pip install msedge-selenium-tools"
   ]
  },
  {
   "cell_type": "code",
   "execution_count": 2,
   "outputs": [
    {
     "name": "stdout",
     "output_type": "stream",
     "text": [
      "Collecting chromedriver_binary==117.0.5938.92\r\n",
      "  Downloading chromedriver-binary-117.0.5938.92.0.tar.gz (5.6 kB)\r\n",
      "  Preparing metadata (setup.py) ... \u001B[?25ldone\r\n",
      "\u001B[?25hBuilding wheels for collected packages: chromedriver_binary\r\n",
      "  Building wheel for chromedriver_binary (setup.py) ... \u001B[?25ldone\r\n",
      "\u001B[?25h  Created wheel for chromedriver_binary: filename=chromedriver_binary-117.0.5938.92.0-py3-none-any.whl size=8833853 sha256=5036a3ce2c6114ce89ab551b5b3ae758cfc7b2bd3dbf3b89170cd5fda003d24a\r\n",
      "  Stored in directory: /Users/ameen/Library/Caches/pip/wheels/6f/bf/05/cc288a7ae73e433e26f5f575ed1f09f8fbbd4cb868124152f8\r\n",
      "Successfully built chromedriver_binary\r\n",
      "Installing collected packages: chromedriver_binary\r\n",
      "Successfully installed chromedriver_binary-117.0.5938.92.0\r\n"
     ]
    }
   ],
   "source": [
    "!pip install chromedriver_binary==117.0.5938.92"
   ],
   "metadata": {
    "collapsed": false,
    "ExecuteTime": {
     "end_time": "2023-10-03T06:34:30.336012Z",
     "start_time": "2023-10-03T06:34:23.540747Z"
    }
   },
   "id": "e6f729b7ce8b2d08"
  },
  {
   "cell_type": "code",
   "execution_count": 4,
   "outputs": [],
   "source": [
    "from selenium import webdriver\n",
    "import chromedriver_binary\n",
    "import csv"
   ],
   "metadata": {
    "collapsed": false,
    "ExecuteTime": {
     "end_time": "2023-10-03T06:37:47.037575Z",
     "start_time": "2023-10-03T06:37:47.026594Z"
    }
   },
   "id": "d92efbb7299281a5"
  },
  {
   "cell_type": "code",
   "execution_count": 5,
   "outputs": [],
   "source": [
    "driver = webdriver.Chrome()"
   ],
   "metadata": {
    "collapsed": false,
    "ExecuteTime": {
     "end_time": "2023-10-03T06:38:24.573964Z",
     "start_time": "2023-10-03T06:37:48.165236Z"
    }
   },
   "id": "68b3a0073a2a3aa1"
  },
  {
   "cell_type": "code",
   "execution_count": 6,
   "outputs": [],
   "source": [
    "url = 'https://www.amazon.com/'\n",
    "driver.get(url)"
   ],
   "metadata": {
    "collapsed": false,
    "ExecuteTime": {
     "end_time": "2023-10-03T06:38:32.172064Z",
     "start_time": "2023-10-03T06:38:24.577140Z"
    }
   },
   "id": "7cf80c8eb31d2687"
  },
  {
   "cell_type": "code",
   "execution_count": null,
   "outputs": [],
   "source": [
    "def my_url(keyword):\n",
    "    "
   ],
   "metadata": {
    "collapsed": false
   },
   "id": "eba7c7459312e372"
  }
 ],
 "metadata": {
  "kernelspec": {
   "display_name": "Python 3",
   "language": "python",
   "name": "python3"
  },
  "language_info": {
   "codemirror_mode": {
    "name": "ipython",
    "version": 2
   },
   "file_extension": ".py",
   "mimetype": "text/x-python",
   "name": "python",
   "nbconvert_exporter": "python",
   "pygments_lexer": "ipython2",
   "version": "2.7.6"
  }
 },
 "nbformat": 4,
 "nbformat_minor": 5
}
